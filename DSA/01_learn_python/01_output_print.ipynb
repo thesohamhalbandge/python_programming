{
 "cells": [
  {
   "cell_type": "markdown",
   "id": "448bbd74-4aec-4277-ac9d-4927ec4fb151",
   "metadata": {},
   "source": [
    "# Printing a number\n",
    "\n",
    "We'll begin with the print statement, which is commonly the first thing you learn in most programming languages.\n",
    "\n",
    "The print statement in Python is used to display output on the screen. You can use it to print numbers, text, or the results of expressions.\n",
    "\n",
    "Let us output a number in Python.\n",
    "\n",
    "This code just prints 12 on the screen when you run it."
   ]
  },
  {
   "cell_type": "code",
   "execution_count": 1,
   "id": "58819ed3-36ac-4aaa-8897-39c555171a1a",
   "metadata": {},
   "outputs": [
    {
     "name": "stdout",
     "output_type": "stream",
     "text": [
      "12\n"
     ]
    }
   ],
   "source": [
    "print(12)"
   ]
  },
  {
   "cell_type": "markdown",
   "id": "dfa223c9-c063-417e-a9b1-ca80ef9ace42",
   "metadata": {},
   "source": [
    "# Printing text\n",
    "\n",
    "In the last problem, we saw how to print a number (using print).\n",
    "\n",
    "Now let's see how to output some text.\n",
    "To print text, there is only one difference. All textual content should start and end with either double quotes(\" \") or single quotes(' ')."
   ]
  },
  {
   "cell_type": "code",
   "execution_count": 2,
   "id": "29ddc576-5fe4-4f2f-a374-edc8fd18410c",
   "metadata": {},
   "outputs": [
    {
     "name": "stdout",
     "output_type": "stream",
     "text": [
      "I love Python\n",
      "I love Python\n"
     ]
    }
   ],
   "source": [
    "print(\"I love Python\") # Output: I love Python\n",
    "print('I love Python') # Output: I love Python"
   ]
  },
  {
   "cell_type": "markdown",
   "id": "083a3a82-a2f7-41c5-80bb-4f1f5f432b86",
   "metadata": {},
   "source": [
    "These two lines perform identical tasks; the first utilizes double quotes, while the second uses single quotes."
   ]
  },
  {
   "cell_type": "markdown",
   "id": "8428eb36-ad91-4c1a-ae0f-375576d8a74e",
   "metadata": {},
   "source": [
    "# Arithmetic Operations\n",
    "\n",
    "We can also perform mathematical operations using print.\n",
    "\n",
    "```py\n",
    "print(2+4) # Output: 6\n",
    "```\n",
    "\n",
    "The above code will output the result of the mathematical operation, which is 6.\n",
    "\n",
    "Note: If you enclose the operation within quotes, the entire expression will be treated as text (a string) and will be printed exactly as it is.\n",
    "\n",
    "```py\n",
    "print(\"2+4\") # Output: 2+4\n",
    "```\n",
    "\n",
    "In this case, the output will be the string \"2 + 4\" instead of the result of the addition.\n",
    "\n",
    "- Without quotes: The expression is evaluated, and the result is printed.\n",
    "- With quotes: The expression is treated as a string and printed as it is.\n",
    "\n",
    "Understanding this distinction is important for correctly displaying the results of calculations versus showing text."
   ]
  },
  {
   "cell_type": "markdown",
   "id": "079b29d3",
   "metadata": {},
   "source": [
    "# Multiple Outputs\n",
    "\n",
    "You can add as many print statements as you want to your program. Each print statement outputs its content on a new line.\n"
   ]
  },
  {
   "cell_type": "code",
   "execution_count": 1,
   "id": "75892dcc-1f8f-4996-b181-0fd762cc6cfe",
   "metadata": {},
   "outputs": [
    {
     "name": "stdout",
     "output_type": "stream",
     "text": [
      "99\n",
      "100\n"
     ]
    }
   ],
   "source": [
    "print(\"99\")\n",
    "print(100)"
   ]
  },
  {
   "cell_type": "markdown",
   "id": "9d9b97e0",
   "metadata": {},
   "source": [
    "# Outputs on the same line\n",
    "\n",
    "We can print multiple items by separating by commas. Python will automatically add a space between them."
   ]
  },
  {
   "cell_type": "code",
   "execution_count": 2,
   "id": "aa78df2c",
   "metadata": {},
   "outputs": [
    {
     "name": "stdout",
     "output_type": "stream",
     "text": [
      "1 2 3 4\n"
     ]
    }
   ],
   "source": [
    "print(1, 2, 3, 4) # Output: 1 2 3 4"
   ]
  },
  {
   "cell_type": "markdown",
   "id": "804c9def",
   "metadata": {},
   "source": [
    "When you use commas to separate items inside the print() function, Python prints each item with a space in between.\n"
   ]
  },
  {
   "cell_type": "markdown",
   "id": "2560f4fe",
   "metadata": {},
   "source": [
    "# Inserting text Between Outputs\n",
    "\n",
    "Remember that to print multiple values on same line, we have to use comma inside print statement.\n",
    "\n",
    "We can also combine text and numbers in a single print statement by comma separating them.\n",
    "\n",
    "For example, check the below code:"
   ]
  },
  {
   "cell_type": "code",
   "execution_count": 3,
   "id": "e8cfb660",
   "metadata": {},
   "outputs": [
    {
     "name": "stdout",
     "output_type": "stream",
     "text": [
      "My favorite number is 10\n"
     ]
    }
   ],
   "source": [
    "print(\"My favorite number is\", 10)"
   ]
  }
 ],
 "metadata": {
  "kernelspec": {
   "display_name": "base",
   "language": "python",
   "name": "python3"
  },
  "language_info": {
   "codemirror_mode": {
    "name": "ipython",
    "version": 3
   },
   "file_extension": ".py",
   "mimetype": "text/x-python",
   "name": "python",
   "nbconvert_exporter": "python",
   "pygments_lexer": "ipython3",
   "version": "3.13.5"
  }
 },
 "nbformat": 4,
 "nbformat_minor": 5
}
