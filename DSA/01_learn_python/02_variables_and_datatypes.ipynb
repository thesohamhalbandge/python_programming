{
 "cells": [
  {
   "cell_type": "markdown",
   "id": "340c4457",
   "metadata": {},
   "source": [
    "# Variables in Python\n",
    "\n",
    "A variable is like a labelled box where you can store data. Imagine you have a box labeled \"age\" and you put the number 25 in it. In Python, you would do this by writing:"
   ]
  },
  {
   "cell_type": "code",
   "execution_count": 1,
   "id": "faa82714",
   "metadata": {},
   "outputs": [],
   "source": [
    "age = 25"
   ]
  },
  {
   "cell_type": "markdown",
   "id": "5317de5c",
   "metadata": {},
   "source": [
    "When you write this, python creates a box(variable) with name `age` and stores 25 in that box(variable).\n",
    "\n",
    "- This process of creating a variable to store a value is called Declaration and\n",
    "- The process of setting its value for the first time is called Initialization.\n",
    "\n",
    "Here's the cool part: whenever you use age in your code, Python will remember it is 25. For example, if you write print(age), Python will show 25."
   ]
  },
  {
   "cell_type": "code",
   "execution_count": 2,
   "id": "98e8c936",
   "metadata": {},
   "outputs": [
    {
     "name": "stdout",
     "output_type": "stream",
     "text": [
      "25\n"
     ]
    }
   ],
   "source": [
    "print(age)"
   ]
  },
  {
   "cell_type": "markdown",
   "id": "ce3462f3-3e10-43b8-b078-7a821c76ebea",
   "metadata": {},
   "source": [
    "# Declaring a variable\n",
    "\n",
    "There are many different types of variables in Python. The type of a variable is defined by the kind of value it stores.\n",
    "\n",
    "Some variable types in Python are as follows"
   ]
  },
  {
   "cell_type": "code",
   "execution_count": 1,
   "id": "ae60f871-42c1-4e2d-ab20-2e64c81b0b84",
   "metadata": {},
   "outputs": [],
   "source": [
    "# Numeric variables - hold integers and decimal values\n",
    "age = 25\n",
    "temperature = 98.6\n",
    "\n",
    "# String variables - Stores a sequence of characters enclosed in single or double quotes\n",
    "name = \"John Doe\"\n",
    "message = 'Hello, world!'\n",
    "\n",
    "# Boolean variables - only hold the values true and false\n",
    "is_true = True\n",
    "is_false = False\n",
    "\n",
    "# List variables - Stores a collection of items, which can be of different types.\n",
    "numbers = [1, 2, 3, 4, 5]\n",
    "fruits = ['apple', 'banana', 'orange']\n",
    "\n",
    "# Tuple variables\n",
    "coordinates = (10, 20)\n",
    "\n",
    "# Dictionary variables\n",
    "person = {'name': 'Alice', 'age': 30}\n",
    "\n",
    "# Set variables\n",
    "unique_numbers = {1, 2, 3}\n",
    "\n",
    "# None variable\n",
    "empty_value = None"
   ]
  },
  {
   "cell_type": "markdown",
   "id": "2c3c3134-cbcb-4c4f-b373-d6b8ba3a506d",
   "metadata": {},
   "source": [
    "# Properties of Variables\n",
    "\n",
    "We learned that variable is a labelled box which can store many different types of values. You can also change the value of a variable in your code.\n",
    "\n",
    "For example"
   ]
  },
  {
   "cell_type": "code",
   "execution_count": 3,
   "id": "fb7282f0-5eec-4a4a-b184-c567904100fb",
   "metadata": {},
   "outputs": [
    {
     "name": "stdout",
     "output_type": "stream",
     "text": [
      "25\n",
      "26\n"
     ]
    }
   ],
   "source": [
    "age = 25\n",
    "print(age)\n",
    "\n",
    "# Update age\n",
    "age = 26\n",
    "print(age)"
   ]
  },
  {
   "cell_type": "markdown",
   "id": "adcb8dc6-96e4-4f9b-8506-682171d95662",
   "metadata": {},
   "source": [
    "# Float datatype\n",
    "\n",
    "In Python, you don't need to explicitly specify the type of a variable during declaration. The type is inferred based on the kind of value assigned to the variable.\n",
    "\n",
    "For example if you put decimal values in a variable, the type of variable becomes float."
   ]
  },
  {
   "cell_type": "code",
   "execution_count": 4,
   "id": "ea270c8a-ba74-406e-b729-166cb2b1c30b",
   "metadata": {},
   "outputs": [],
   "source": [
    "pi = 3.14"
   ]
  },
  {
   "cell_type": "markdown",
   "id": "4dabf112-e6d7-4157-a322-74891fc0e197",
   "metadata": {},
   "source": [
    "# String datatype\n",
    "\n",
    "The string type is used to store a sequence of characters, i.e. text.\n",
    "String values can be surrounded by either double quotes or single quotes.\n",
    "Python does not care about whether you use single or double quotes.\n",
    "\n",
    "For example, both the below codes do the same thing:"
   ]
  },
  {
   "cell_type": "code",
   "execution_count": 6,
   "id": "21446410-4aaf-49d5-a7fe-ee161ee67818",
   "metadata": {},
   "outputs": [],
   "source": [
    "sentence1 = \"I am using CodeChef\"\n",
    "sentence2 = 'I am using CodeChef'"
   ]
  },
  {
   "cell_type": "markdown",
   "id": "7437df5f-79c7-448f-9228-58e5b49b126e",
   "metadata": {},
   "source": [
    "# Bool Datatype\n",
    "\n",
    "In programming, you often need to make decisions based on whether something is True or False. For this, we have a data type representing just one of these two values - True and False.\n",
    "\n",
    "The datatype is called boolean datatype.\n",
    "\n",
    "You can create a boolean variable like this:"
   ]
  },
  {
   "cell_type": "code",
   "execution_count": 7,
   "id": "d5ee69c6-0d7f-4cab-93f3-b895542bab0b",
   "metadata": {},
   "outputs": [
    {
     "name": "stdout",
     "output_type": "stream",
     "text": [
      "True\n"
     ]
    }
   ],
   "source": [
    "studying = True\n",
    "print(studying)\n",
    "\n",
    "# Output:\n",
    "# True"
   ]
  },
  {
   "cell_type": "markdown",
   "id": "4fa7982f-c727-4079-b3a5-22d4cd1d4bd5",
   "metadata": {},
   "source": [
    "- Note how we do not have to provide quotes around the value True or False.\n",
    "- Also, the T in True has to be a uppercase. Similarly, the F in False has to be uppercase."
   ]
  },
  {
   "cell_type": "markdown",
   "id": "7b6b961d-7127-4b83-bbcb-4b56a8d490f0",
   "metadata": {},
   "source": [
    "# Type Conversion\n",
    "\n",
    "In the previous problems we saw different types of datatypes. We can also convert one data type to another as per our use. This is called `Type Conversion`.\n",
    "\n",
    "There are two types of Type Conversion.\n",
    "\n",
    "## 1. Implicit Type Conversion:\n",
    "\n",
    "Here, Python automatically converts a variable from one data type to another without the user needing to tell it to do so."
   ]
  },
  {
   "cell_type": "code",
   "execution_count": 8,
   "id": "e9981058-2854-415d-a9cc-469e255dda3a",
   "metadata": {},
   "outputs": [
    {
     "name": "stdout",
     "output_type": "stream",
     "text": [
      "3.5\n"
     ]
    }
   ],
   "source": [
    "x = 7\n",
    "x = x/2\n",
    "print(x) # Output: 3.5"
   ]
  },
  {
   "cell_type": "markdown",
   "id": "a12d3165-c5a0-44d6-a36f-61762d4752a8",
   "metadata": {},
   "source": [
    "Here’s what happens:\n",
    "\n",
    "- Variable x is initially an integer with a value of 7\n",
    "- When x is divided by 2, the result 3.5 is a float (decimal number)\n",
    "- Python automatically converts x from an integer to a float\n",
    "\n",
    "## 2. Explicit Type Conversion\n",
    "\n",
    "Here, we manually convert a variable from one data type to another as per our use using Python’s built-in functions"
   ]
  },
  {
   "cell_type": "code",
   "execution_count": 11,
   "id": "cad2a0f5-008c-4576-9a94-db02e3d3cf0f",
   "metadata": {},
   "outputs": [
    {
     "name": "stdout",
     "output_type": "stream",
     "text": [
      "24\n"
     ]
    }
   ],
   "source": [
    "num = '12'\n",
    "num = int(num)\n",
    "num = num + num\n",
    "\n",
    "print(num)"
   ]
  },
  {
   "cell_type": "markdown",
   "id": "fffac804-a41f-43cc-b51e-8d16ab7280e9",
   "metadata": {},
   "source": [
    "Here’s what happens:\n",
    "\n",
    "- Initially, num is a string with the value '12'.\n",
    "- We use the int() function to convert num from a string to an integer.\n",
    "- After conversion, num becomes 12 (an integer), and we can perform arithmetic operations on it. If we hadn’t converted num from a string to an integer, the operation num + num would have resulted in concatenation, producing '1212' instead of 24."
   ]
  },
  {
   "cell_type": "markdown",
   "id": "c76aeaa7-de8d-498a-b5ee-e8da4e2ecb70",
   "metadata": {},
   "source": [
    "# Checking the type of variables\n",
    "\n",
    "You can check the type of any variable or value by using the type function."
   ]
  },
  {
   "cell_type": "code",
   "execution_count": 13,
   "id": "17527483-6aa6-467f-bbca-c1f3665698a6",
   "metadata": {},
   "outputs": [
    {
     "name": "stdout",
     "output_type": "stream",
     "text": [
      "<class 'int'>\n"
     ]
    }
   ],
   "source": [
    "a = 5\n",
    "print(type(a))\n",
    "\n",
    "# The above code gives <class 'int'> as the output as the variable a is of type int"
   ]
  }
 ],
 "metadata": {
  "kernelspec": {
   "display_name": "base",
   "language": "python",
   "name": "python3"
  },
  "language_info": {
   "codemirror_mode": {
    "name": "ipython",
    "version": 3
   },
   "file_extension": ".py",
   "mimetype": "text/x-python",
   "name": "python",
   "nbconvert_exporter": "python",
   "pygments_lexer": "ipython3",
   "version": "3.13.5"
  }
 },
 "nbformat": 4,
 "nbformat_minor": 5
}
