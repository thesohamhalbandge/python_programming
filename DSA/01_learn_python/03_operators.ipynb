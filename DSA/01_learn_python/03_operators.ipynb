{
 "cells": [
  {
   "cell_type": "markdown",
   "id": "8bc09f33-e044-4aee-8d92-4c1cff965082",
   "metadata": {},
   "source": [
    "# Arithmetic Operations\n",
    "\n",
    "In Python, you can perform various basic mathematical operations with numbers. Let's explore some commonly used arithmetic operators with examples."
   ]
  },
  {
   "cell_type": "markdown",
   "id": "a6e9534d-f8cf-44d7-b80f-0b6c7d1aa1fc",
   "metadata": {},
   "source": [
    "## 1. Addition (+):\n",
    "\n",
    "You can use the plus sign (+) to add two numbers."
   ]
  },
  {
   "cell_type": "code",
   "execution_count": 2,
   "id": "8de743a6-a53d-4c23-ac66-e6e58052ce15",
   "metadata": {},
   "outputs": [
    {
     "name": "stdout",
     "output_type": "stream",
     "text": [
      "9\n"
     ]
    }
   ],
   "source": [
    "a = 6\n",
    "b = 3\n",
    "print(a + b)  # prints 9"
   ]
  },
  {
   "cell_type": "markdown",
   "id": "4b5a8191-0d6b-4ba4-b001-b63058e77aac",
   "metadata": {},
   "source": [
    "## 2. Subtraction (-)\n",
    "\n",
    "You can use the minus sign (-) to subtract one number from another."
   ]
  },
  {
   "cell_type": "code",
   "execution_count": 3,
   "id": "217dcce7-df37-40a6-9ac8-66677696d5cb",
   "metadata": {},
   "outputs": [
    {
     "name": "stdout",
     "output_type": "stream",
     "text": [
      "3\n"
     ]
    }
   ],
   "source": [
    "print(a - b)  # prints 3"
   ]
  },
  {
   "cell_type": "markdown",
   "id": "e8f7f10e-8bab-4100-aaef-cdab1b85f501",
   "metadata": {},
   "source": [
    "## 3. Multiplication (*)\n",
    "\n",
    "You can use the asterisk (*) to multiply two numbers."
   ]
  },
  {
   "cell_type": "code",
   "execution_count": 4,
   "id": "eadba613-3bd9-4632-b8c4-910674a0b224",
   "metadata": {},
   "outputs": [
    {
     "name": "stdout",
     "output_type": "stream",
     "text": [
      "18\n"
     ]
    }
   ],
   "source": [
    "print(a * b)  # prints 18"
   ]
  },
  {
   "cell_type": "markdown",
   "id": "55ce5efe-79da-4616-951a-86ade18e633f",
   "metadata": {},
   "source": [
    "## 4. Division (/)\n",
    "\n",
    "You can use the forward slash (/) to divide one number by another. This will give you a float (decimal number) as a result."
   ]
  },
  {
   "cell_type": "code",
   "execution_count": 5,
   "id": "febf3292-e0b2-40fa-91e7-7df3317427e2",
   "metadata": {},
   "outputs": [
    {
     "name": "stdout",
     "output_type": "stream",
     "text": [
      "2.0\n"
     ]
    }
   ],
   "source": [
    "print(a / b)  # prints 2.0"
   ]
  },
  {
   "cell_type": "markdown",
   "id": "cc587e7c-59c2-4e57-b8f2-d1ec38c5dcd9",
   "metadata": {},
   "source": [
    "## 5. Integer Division (//)\n",
    "\n",
    "You can use the double forward slash (//) to perform integer division. This will divide the numbers and return the whole number part of the result, discarding the remainder."
   ]
  },
  {
   "cell_type": "code",
   "execution_count": 6,
   "id": "11ea2c4a-6eb1-42ea-9cc3-a9ee73a8b667",
   "metadata": {},
   "outputs": [
    {
     "name": "stdout",
     "output_type": "stream",
     "text": [
      "3\n"
     ]
    }
   ],
   "source": [
    "result = 10 // 3\n",
    "print(result)  # prints 3\n",
    "\n",
    "#In this example, 10 divided by 3 equals 3.333.... The integer division returns only the whole number part, which is 3."
   ]
  },
  {
   "cell_type": "markdown",
   "id": "6c7a88e3-527e-4556-9d1a-8a0021d7f739",
   "metadata": {},
   "source": [
    "## 6. Modulo (%)\n",
    "\n",
    "You can use the percent symbol (%), known as the modulo operator, to get the remainder of a division."
   ]
  },
  {
   "cell_type": "code",
   "execution_count": 8,
   "id": "e983fbde-d13b-4671-bcf6-fd8c88da5a19",
   "metadata": {},
   "outputs": [
    {
     "name": "stdout",
     "output_type": "stream",
     "text": [
      "0\n"
     ]
    }
   ],
   "source": [
    "print(a % b)  # prints 0\n",
    "\n",
    "# Here, `6 modulo 3` is `0` because `6` divided by `3` leaves no remainder."
   ]
  },
  {
   "cell_type": "markdown",
   "id": "179d8176-5c5e-436b-bb14-af4bde8d8b5b",
   "metadata": {},
   "source": [
    "## 7. Exponentiation (**)\n",
    "You can use the double asterisk (**) to raise a number to the power of another number."
   ]
  },
  {
   "cell_type": "code",
   "execution_count": 9,
   "id": "c9fd9cda-138f-4360-92b0-571739a3aaec",
   "metadata": {},
   "outputs": [
    {
     "name": "stdout",
     "output_type": "stream",
     "text": [
      "216\n"
     ]
    }
   ],
   "source": [
    "print(a ** b)  # prints 216\n",
    "\n",
    "# In this example, `6 to the power of 3` is `216` (`6 * 6 * 6`)."
   ]
  },
  {
   "cell_type": "markdown",
   "id": "1a7981bf-90ab-439b-8ad1-f78c522d31e1",
   "metadata": {},
   "source": [
    "# Assignment Operators\n",
    "\n",
    "In Python, assignment operators are used to set or update the value of a variable. There are basic assignment operators and compound assignment operators. Let's break these down with examples for better understanding."
   ]
  },
  {
   "cell_type": "markdown",
   "id": "837dcfb3-4afa-45d0-bd83-3d85694d3956",
   "metadata": {},
   "source": [
    "## Basic Assignment Operator\n",
    "The basic assignment operator is the = sign. It assigns the value on its right to the variable on its left. Here's a simple example:"
   ]
  },
  {
   "cell_type": "code",
   "execution_count": 10,
   "id": "7930ae4a-e04f-48ab-9ff5-e612e98b4103",
   "metadata": {},
   "outputs": [],
   "source": [
    "length = 15\n",
    "# In this example, the = operator sets the value of length to 15."
   ]
  },
  {
   "cell_type": "markdown",
   "id": "b156f910-a654-4e2a-969b-b0f61f9682e9",
   "metadata": {},
   "source": [
    "## Compound Assignment Operators\n",
    "Compound Assignment Operators combine arithmetic operations with assignment. They are just a shorthand way of performing operations on a variable and assigning the result back to the variable.\n",
    "\n",
    "Without using the compound assignment operators we write -"
   ]
  },
  {
   "cell_type": "code",
   "execution_count": 11,
   "id": "a6597b87-a038-4c5f-a72d-5a440d8fe234",
   "metadata": {},
   "outputs": [],
   "source": [
    "length = 15\n",
    "length = length + 5  # Updates length by adding 5 to its current value"
   ]
  },
  {
   "cell_type": "markdown",
   "id": "3dacd8c3-df67-4198-adc5-90c317f70ad3",
   "metadata": {},
   "source": [
    "The same thing using Compound Assignment Operator would be written as-"
   ]
  },
  {
   "cell_type": "code",
   "execution_count": 12,
   "id": "987073f0-d762-4dfe-a22e-13288a637afc",
   "metadata": {},
   "outputs": [
    {
     "name": "stdout",
     "output_type": "stream",
     "text": [
      "20\n"
     ]
    }
   ],
   "source": [
    "length = 15\n",
    "length += 5  # Shorthand for length = length + 5\n",
    "print(length)  # Output: 20"
   ]
  },
  {
   "cell_type": "markdown",
   "id": "6a68a583-8e1c-40aa-996f-7ab80cbb391b",
   "metadata": {},
   "source": [
    "We can use any other operator in the same way:\n",
    "- x -= 5  (Subtracts 5 from `x` and assigns the result back to `x`)\n",
    "- x *= 3  (Multiplies `x` by 3 and assigns the result back to `x`)\n",
    "- x /= 3  (Divides `x` by 3 and assigns the result back to `x`)*\n",
    "- x %= 3  (Finds the remainder when `x` is divided by 3 and assigns the result back to `x`)"
   ]
  },
  {
   "cell_type": "markdown",
   "id": "23185c12-6ef6-4695-9c15-d39c61526907",
   "metadata": {},
   "source": [
    "# Relational Operators\n",
    "\n",
    "Relational operators help you compare two values or variables. They give you a result of either True or False based on the comparison."
   ]
  },
  {
   "cell_type": "markdown",
   "id": "f9ee642d-39d2-4256-8b0f-640917eca916",
   "metadata": {},
   "source": [
    "## Basic Comparison\n",
    "Let's start with a simple example:"
   ]
  },
  {
   "cell_type": "code",
   "execution_count": 14,
   "id": "846a3cbe-c2af-407e-bb51-e0ea5199fd79",
   "metadata": {},
   "outputs": [
    {
     "name": "stdout",
     "output_type": "stream",
     "text": [
      "True\n"
     ]
    }
   ],
   "source": [
    "height1 = 12\n",
    "height2 = 14\n",
    "print(height1 < height2) # Outputs True because 12 is less than 14\n",
    "\n",
    "#In this example, the `<` operator compares `height1` and `height2`. Since `height1` is less than `height2`, it returns `True`."
   ]
  },
  {
   "cell_type": "markdown",
   "id": "28940ce5-b507-43f2-815f-459d11cfff27",
   "metadata": {},
   "source": [
    "## Other Relational Operators\n",
    "Here are some more examples of relational operators:"
   ]
  },
  {
   "cell_type": "markdown",
   "id": "b7e34dd8-0e1c-4ded-b8cb-f4da946229cb",
   "metadata": {},
   "source": [
    "- a > b   (Checks if `a` is greater than `b`)\n",
    "- a == b  (Checks if `a` is equal to `b`)\n",
    "- a != b  (Checks if `a` is not equal to `b`)\n",
    "- a >= b  (Checks if `a` is greater than or equal to `b`)\n",
    "- a <= b  (Checks if `a` is less than or equal to `b`)"
   ]
  },
  {
   "cell_type": "markdown",
   "id": "ea5ef969-401c-4cf5-8466-c7a9d9566597",
   "metadata": {},
   "source": [
    "## Logical Operators\n",
    "Logical operators help you combine multiple conditions to check if they are True or False. They are often used to make decisions based on multiple criteria.\n"
   ]
  },
  {
   "cell_type": "markdown",
   "id": "e29cb278-95a3-42fa-bef1-b84176f3406c",
   "metadata": {},
   "source": [
    "## Basic Logical Operations\n",
    "Here are the basic logical operators and their usage:\n",
    "\n",
    "### 1. Logical AND\n",
    "\n"
   ]
  },
  {
   "cell_type": "code",
   "execution_count": 18,
   "id": "b65cdf7d-7a02-47c2-b50f-3fd7c54a44d7",
   "metadata": {},
   "outputs": [
    {
     "name": "stdout",
     "output_type": "stream",
     "text": [
      "True\n"
     ]
    }
   ],
   "source": [
    "# The AND operator returns True only if both conditions are True.\n",
    "\n",
    "a = 7\n",
    "condition = a > 5 and a < 10  # Only True if a is greater than 5 AND less than 10\n",
    "print(condition)  # Output: True"
   ]
  },
  {
   "cell_type": "markdown",
   "id": "2b5b2ad6-60d7-4b8b-8101-e8cf268d8684",
   "metadata": {},
   "source": [
    "### 2. Logical OR"
   ]
  },
  {
   "cell_type": "code",
   "execution_count": 19,
   "id": "54b93f62-1817-4414-9450-3336cf49c46f",
   "metadata": {},
   "outputs": [
    {
     "name": "stdout",
     "output_type": "stream",
     "text": [
      "False\n"
     ]
    }
   ],
   "source": [
    "# The OR operator returns True if at least one of the conditions is True.\n",
    "\n",
    "a = 7\n",
    "condition = a > 10 or a < 5  # True if a is greater than 10 OR less than 5\n",
    "print(condition)  # Output: False"
   ]
  },
  {
   "cell_type": "markdown",
   "id": "5c43b054-76b6-48c8-993f-c5070dce5ca8",
   "metadata": {},
   "source": [
    "### 3. Logical NOT"
   ]
  },
  {
   "cell_type": "code",
   "execution_count": 20,
   "id": "6b27c5e3-6d8c-4172-9add-f0af01870211",
   "metadata": {},
   "outputs": [
    {
     "name": "stdout",
     "output_type": "stream",
     "text": [
      "False\n"
     ]
    }
   ],
   "source": [
    "# The NOT operator reverses the result of the condition. If the condition is True, `not` makes it False. If the condition is False, `not` makes it True.\n",
    "\n",
    "a = 7\n",
    "condition = not(a > 5)  # Reverses the result of a > 5\n",
    "print(condition)  # Output: False"
   ]
  },
  {
   "cell_type": "markdown",
   "id": "d636958a-91d7-4b15-b09e-bb92dfc54183",
   "metadata": {},
   "source": [
    "# Operator Precedence and Associativity\n",
    "\n",
    "You may be familiar with BODMAS (or PEMDAS in some regions) rule for evaluating arithmetic expressions.\n",
    "\n",
    "It says we solve parenthesis first, then exponent, then divide, then multiply, then add and then subtract.\n",
    "\n",
    "Similarly there are two main rules a program follows to evaluate an arithmetic expression:\n",
    "\n",
    "- Precedence - It tells the priority of operations.\n",
    "- Associativity - It tells what order the operations with the same priority will be performed in."
   ]
  },
  {
   "cell_type": "markdown",
   "id": "6365b276-cdf4-452d-9cf4-569191bc0154",
   "metadata": {},
   "source": [
    "## Operator Precedence\n",
    "\n",
    "Operator precedence determines the order in which different operators are evaluated in an expression.\n",
    "Operators with higher precedence are evaluated before those with lower precedence.\n",
    "This concept is similar to the rules of arithmetic, where multiplication and division takes precedence over addition and subtraction.\n",
    "\n",
    "Here's the order of operator precedence in Python from highest to lowest:\n",
    "\n",
    "- Parentheses: ()\n",
    "- Exponentiation: **\n",
    "- Unary operators: ~\n",
    "- Multiplication, division, floor division, and modulus operators: *, /, //, %\n",
    "- Addition and subtraction operators: +, -\n",
    "- Relational operators: <, >, <=, >=\n",
    "- Equality operators: ==, !=\n",
    "- Logical AND operator: and\n",
    "- Logical OR operator: or\n",
    "- Assignment operators: =, +=, -= ... and so on"
   ]
  },
  {
   "cell_type": "markdown",
   "id": "07624a89-dac6-4df6-ad89-8e51e64bf54b",
   "metadata": {},
   "source": [
    "## Operator Associativity\n",
    "\n",
    "When operators of the same precedence appear in an expression, associativity determines the order in which they are evaluated. Operators can be either left-associative or right-associative.\n",
    "\n",
    "### Left-Associative:\n",
    "On Left-Associative Operators, operations are performed from left to right. Most operators are left-associative. For instance, in (A - B + C), addition and subtraction, being left-associative, will first evaluate (A - B), and then add (C) to the result.\n",
    "\n",
    "```python\n",
    "result = 10 - 2 + 3  # Both - and + have the same precedence and are left-associative\n",
    "print(result)       # Output: 11 ((10 - 2) + 3 is evaluated as 8 + 3)\n",
    "\n",
    "result = 10 / 2 * 3  # Both / and * have the same precedence and are left-associative\n",
    "print(result)       # Output: 15.0 ((10 / 2) * 3 is evaluated as 5.0 * 3)\n",
    "```\n",
    "\n",
    "### Right-Associative:\n",
    "Although less common, some operators are right-associative, meaning they are evaluated from right to left. An example is the exponentiation operator **.\n",
    "In (2 ** 2 ** 3) Python will first calculate (2 ** 3) which is 8 and then calculate 2^8 which evaluates to 256.\n",
    "\n",
    "```python\n",
    "result = 2 ** 2 ** 3  # Exponentiation is right-associative\n",
    "print(result)        # Output: 256 (2 ** (2 ** 3) is evaluated as 2 ** 8)\n",
    "```"
   ]
  }
 ],
 "metadata": {
  "kernelspec": {
   "display_name": "Python 3 (ipykernel)",
   "language": "python",
   "name": "python3"
  },
  "language_info": {
   "codemirror_mode": {
    "name": "ipython",
    "version": 3
   },
   "file_extension": ".py",
   "mimetype": "text/x-python",
   "name": "python",
   "nbconvert_exporter": "python",
   "pygments_lexer": "ipython3",
   "version": "3.13.5"
  }
 },
 "nbformat": 4,
 "nbformat_minor": 5
}
