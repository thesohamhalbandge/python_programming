{
 "cells": [
  {
   "cell_type": "markdown",
   "id": "eb83a74f-317c-4319-9d7c-db2a29f75f94",
   "metadata": {},
   "source": [
    "# Creating a String\n",
    "\n",
    "Strings are used for storing text.\n",
    "A string variable contains a collection of characters surrounded by double quotes.\n",
    "\n",
    "For example:"
   ]
  },
  {
   "cell_type": "code",
   "execution_count": 3,
   "id": "acc2776a-99ad-458f-a72e-65a60647c58d",
   "metadata": {},
   "outputs": [
    {
     "name": "stdout",
     "output_type": "stream",
     "text": [
      "Chef\n"
     ]
    }
   ],
   "source": [
    "name = \"Chef\"\n",
    "print(name)"
   ]
  },
  {
   "cell_type": "markdown",
   "id": "dbceb239-92a1-4042-bc26-364cdcedc555",
   "metadata": {},
   "source": [
    "# String Operations\n",
    "\n",
    "Perfect! Let's dive deep into strings. When working with strings, you will need to use various operations."
   ]
  },
  {
   "cell_type": "markdown",
   "id": "b7caa826-4df3-4959-b07c-c0a6a2a137bc",
   "metadata": {},
   "source": [
    "## Concatenation\n",
    "\n",
    "The + sign can be used between strings to add them together to make a new string.\n",
    "This is called concatenation.\n",
    "For eg -"
   ]
  },
  {
   "cell_type": "code",
   "execution_count": 5,
   "id": "80f2de55-8951-4e13-897a-1da691502753",
   "metadata": {},
   "outputs": [
    {
     "name": "stdout",
     "output_type": "stream",
     "text": [
      "GoodWork\n"
     ]
    }
   ],
   "source": [
    "x = \"Good\"\n",
    "y = \"Work\"\n",
    "print(x + y)   #output will be: GoodWork"
   ]
  },
  {
   "cell_type": "markdown",
   "id": "f63df32c-b9d3-4f75-8cd0-91d2bd07058f",
   "metadata": {},
   "source": [
    "Note: You can add spaces between words by using an empty \" \" with a space inside or by providing a space in the end of a word.\n",
    "For eg -"
   ]
  },
  {
   "cell_type": "code",
   "execution_count": 6,
   "id": "be5b8f59-628e-44bd-a013-b44da3f88a90",
   "metadata": {},
   "outputs": [
    {
     "name": "stdout",
     "output_type": "stream",
     "text": [
      "Good Work\n"
     ]
    }
   ],
   "source": [
    "x = \"Good\"\n",
    "y = \"Work\"\n",
    "print(x + \" \" + y)   #output will be: Good Work"
   ]
  },
  {
   "cell_type": "markdown",
   "id": "51c9658d-5a22-4882-9ac2-645b9cdaac44",
   "metadata": {},
   "source": [
    "## String repetition\n",
    "\n",
    "In Python, you can multiply strings to create a new string that repeats the original string a certain number of times. This technique is known as string repetition or string replication.\n",
    "\n",
    "The multiplication operator (*) is used to repeat a string a specified number of times."
   ]
  },
  {
   "cell_type": "code",
   "execution_count": 7,
   "id": "876d4e1f-afb4-4607-83b4-09fe62d51d61",
   "metadata": {},
   "outputs": [
    {
     "name": "stdout",
     "output_type": "stream",
     "text": [
      "hello hello hello \n"
     ]
    }
   ],
   "source": [
    "string = \"hello \"\n",
    "result = string * 3\n",
    "print(result) # output: hello hello hello\n",
    "\n",
    "# string is assigned the value `hello`.\n",
    "# string * 3 creates a new string by repeating `hello` three times.\n",
    "# The result, `hello hello hello`, is stored in the variable result and printed."
   ]
  },
  {
   "cell_type": "markdown",
   "id": "6998b00e-2b92-411e-8934-739b44002945",
   "metadata": {},
   "source": [
    "## Strings and Integers\n",
    "\n",
    "Python uses the + sign for both addition and concatenation.\n",
    "\n",
    "Numbers are added.\n",
    "Strings are concatenated.\n",
    "We cannot mix the two"
   ]
  },
  {
   "cell_type": "code",
   "execution_count": 8,
   "id": "59a15a52-573a-447a-8daf-37dce1f716b3",
   "metadata": {},
   "outputs": [
    {
     "ename": "TypeError",
     "evalue": "can only concatenate str (not \"int\") to str",
     "output_type": "error",
     "traceback": [
      "\u001b[1;31m---------------------------------------------------------------------------\u001b[0m",
      "\u001b[1;31mTypeError\u001b[0m                                 Traceback (most recent call last)",
      "Cell \u001b[1;32mIn[8], line 4\u001b[0m\n\u001b[0;32m      1\u001b[0m string1 \u001b[38;5;241m=\u001b[39m \u001b[38;5;124m\"\u001b[39m\u001b[38;5;124m25\u001b[39m\u001b[38;5;124m\"\u001b[39m\n\u001b[0;32m      2\u001b[0m string2 \u001b[38;5;241m=\u001b[39m \u001b[38;5;241m69\u001b[39m\n\u001b[1;32m----> 4\u001b[0m \u001b[38;5;28mprint\u001b[39m(string1 \u001b[38;5;241m+\u001b[39m string2)\n",
      "\u001b[1;31mTypeError\u001b[0m: can only concatenate str (not \"int\") to str"
     ]
    }
   ],
   "source": [
    "string1 = \"25\"\n",
    "string2 = 69\n",
    "\n",
    "print(string1 + string2)"
   ]
  },
  {
   "cell_type": "code",
   "execution_count": 9,
   "id": "2830b1da-3025-4d29-8214-4693de5dc226",
   "metadata": {},
   "outputs": [
    {
     "name": "stdout",
     "output_type": "stream",
     "text": [
      "2569\n"
     ]
    }
   ],
   "source": [
    "string1 = \"25\"\n",
    "string2 = \"69\"\n",
    "\n",
    "print(string1 + string2)"
   ]
  },
  {
   "cell_type": "markdown",
   "id": "d505b919-00ea-423a-988e-97410cbce625",
   "metadata": {},
   "source": [
    "## String length\n",
    "\n",
    "We can use the len() function to get the length of a string.\n",
    "\n",
    "For eg."
   ]
  },
  {
   "cell_type": "code",
   "execution_count": 11,
   "id": "765f70d8-7bbe-4d83-a108-bb80a5ba4222",
   "metadata": {},
   "outputs": [
    {
     "name": "stdout",
     "output_type": "stream",
     "text": [
      "5\n"
     ]
    }
   ],
   "source": [
    "greeting = \"hello\"\n",
    "len_string = len(greeting)\n",
    "print(len_string)\n",
    "# len_string now stores the value of the length of greeting"
   ]
  },
  {
   "cell_type": "markdown",
   "id": "7f557a2b-cc63-4be2-b022-e0a369ee74a8",
   "metadata": {},
   "source": [
    "## Lower and Upper case\n",
    "\n",
    "We have other helper functions to change a string to either lowercase or uppercase.\n",
    "\n",
    "- lower(): This function converts all characters in the string to lowercase.\n",
    "- upper(): This function converts all characters in the string to uppercase.\n"
   ]
  },
  {
   "cell_type": "code",
   "execution_count": 12,
   "id": "d622aad3-1080-46b8-9038-6a12670d8c15",
   "metadata": {},
   "outputs": [
    {
     "name": "stdout",
     "output_type": "stream",
     "text": [
      "codechef\n",
      "CODECHEF\n"
     ]
    }
   ],
   "source": [
    "name = 'CodeChef'\n",
    "lowercase_name = name.lower()\n",
    "uppercase_name = name.upper()\n",
    "print(lowercase_name) # Output: codechef\n",
    "print(uppercase_name) # Output: CODECHEF"
   ]
  },
  {
   "cell_type": "code",
   "execution_count": 13,
   "id": "3ea337c1-bc39-4e41-8bff-308a5793febd",
   "metadata": {},
   "outputs": [
    {
     "data": {
      "text/plain": [
       "12"
      ]
     },
     "execution_count": 13,
     "metadata": {},
     "output_type": "execute_result"
    }
   ],
   "source": [
    "len(\"Hello World!\")"
   ]
  },
  {
   "cell_type": "markdown",
   "id": "8dc092cc-b721-4246-ae2f-cbdb25f6112d",
   "metadata": {},
   "source": [
    "# Outputting Characters from a String\n",
    "\n",
    "As you work with strings, you will find the need to deal with each character in it. For example, fetching a specific character of a string.\n"
   ]
  },
  {
   "cell_type": "markdown",
   "id": "0f01cabc-31fd-4a4d-9453-fcc17408923a",
   "metadata": {},
   "source": [
    "So you learned that we can access the characters in a string by referring to its `index number` inside `square brackets [ ]`.\n",
    "\n",
    "This concept is known as `indexing`.\n",
    "Indexing allows you to access individual characters in a string using their position.\n",
    "The position is known as the index, and Python supports two kinds of indexing: `positive` and `negative` indexing.\n",
    "\n",
    "- `Positive Indexing`: Starts from the beginning of the string. The first character is at index 0, the second is at index 1, and so on."
   ]
  },
  {
   "cell_type": "code",
   "execution_count": 14,
   "id": "882d0b1c-8ed2-4467-ab7c-20eb99c2f654",
   "metadata": {},
   "outputs": [
    {
     "name": "stdout",
     "output_type": "stream",
     "text": [
      "C\n",
      "o\n"
     ]
    }
   ],
   "source": [
    "s = \"Codechef\"\n",
    "print(s[0]) # Output: C\n",
    "print(s[1]) # Output: o"
   ]
  },
  {
   "cell_type": "markdown",
   "id": "59eb6d4a-ca8b-4eb5-afb2-2a392318bc88",
   "metadata": {},
   "source": [
    "- `Negative Indexing`: Starts from the end of the string. The last character is at index '-1', the second to last is at index '-2', and so on."
   ]
  },
  {
   "cell_type": "code",
   "execution_count": 16,
   "id": "9d06e8fe-6153-4e67-81ec-c5dfe337e0c1",
   "metadata": {},
   "outputs": [
    {
     "name": "stdout",
     "output_type": "stream",
     "text": [
      "f\n",
      "e\n"
     ]
    }
   ],
   "source": [
    "s = \"Codechef\"\n",
    "print(s[-1]) # Output: f\n",
    "print(s[-2]) # Output: e"
   ]
  },
  {
   "attachments": {
    "fb27c99c-8535-4240-b32e-7d38dee4177c.png": {
     "image/png": "[encoded data removed]"
    }
   },
   "cell_type": "markdown",
   "id": "5c334743-50fb-4b81-be34-71fbf015cb64",
   "metadata": {},
   "source": [
    "![string-indexing.png](attachment:fb27c99c-8535-4240-b32e-7d38dee4177c.png)"
   ]
  },
  {
   "cell_type": "markdown",
   "id": "a376dbfa-7377-40ec-98bf-eacd32eaafde",
   "metadata": {},
   "source": [
    "# Changing Characters in a String\n",
    "\n",
    "In Python, strings are immutable, which means you cannot directly update or change a character in a string.\n",
    "\n",
    "For example"
   ]
  },
  {
   "cell_type": "code",
   "execution_count": 17,
   "id": "1bb8a51c-7423-48d5-a17c-2d333c88fc58",
   "metadata": {},
   "outputs": [
    {
     "ename": "TypeError",
     "evalue": "'str' object does not support item assignment",
     "output_type": "error",
     "traceback": [
      "\u001b[1;31m---------------------------------------------------------------------------\u001b[0m",
      "\u001b[1;31mTypeError\u001b[0m                                 Traceback (most recent call last)",
      "Cell \u001b[1;32mIn[17], line 2\u001b[0m\n\u001b[0;32m      1\u001b[0m myString \u001b[38;5;241m=\u001b[39m \u001b[38;5;124m\"\u001b[39m\u001b[38;5;124mChaf\u001b[39m\u001b[38;5;124m\"\u001b[39m\n\u001b[1;32m----> 2\u001b[0m myString[\u001b[38;5;241m2\u001b[39m] \u001b[38;5;241m=\u001b[39m \u001b[38;5;124m'\u001b[39m\u001b[38;5;124me\u001b[39m\u001b[38;5;124m'\u001b[39m\n",
      "\u001b[1;31mTypeError\u001b[0m: 'str' object does not support item assignment"
     ]
    }
   ],
   "source": [
    "myString = \"Chaf\"\n",
    "myString[2] = 'e'"
   ]
  },
  {
   "cell_type": "markdown",
   "id": "9c874d28-e08d-41e9-bf9b-968370ad85fe",
   "metadata": {},
   "source": [
    "If you run the above program, you will get a compilation error.\n",
    "\n",
    "However, you can create a new string with the desired changes.\n",
    "Here's an example of how you can replace the character:"
   ]
  },
  {
   "cell_type": "code",
   "execution_count": 18,
   "id": "e8b92d94-1f0f-4e0a-b236-3b84f55208e7",
   "metadata": {},
   "outputs": [
    {
     "name": "stdout",
     "output_type": "stream",
     "text": [
      "Chef\n"
     ]
    }
   ],
   "source": [
    "myString = \"Chaf\"\n",
    "myString_new = myString.replace('a', 'e')  \n",
    "print(myString_new)      #This string has the correct values\n",
    "\n",
    "# Please note that, replace() method replaces all occurrences of the provided character."
   ]
  },
  {
   "cell_type": "markdown",
   "id": "3d11431a-86ab-4946-8ecc-7d38d14b79d7",
   "metadata": {},
   "source": [
    "# String slicing\n",
    "\n",
    "Slicing is a way to extract a part (substring) from a string.\n",
    "\n",
    "The syntax to do that is\n",
    "\n",
    "```text\n",
    "substring = string[start:end]\n",
    "```\n",
    "When you specify a start index in a string slice, Python includes the character at that index as the starting point of your new substring.\n",
    "\n",
    "The end index is exclusive. This means the character at the end index is not included in the resulting substring. The slice stops just before it.\n",
    "\n",
    "To get the first 4 characters of a string:"
   ]
  },
  {
   "cell_type": "code",
   "execution_count": 19,
   "id": "d5870d01-12a5-4879-9f91-605ec2231840",
   "metadata": {},
   "outputs": [
    {
     "name": "stdout",
     "output_type": "stream",
     "text": [
      "Inte\n"
     ]
    }
   ],
   "source": [
    "str = 'Interesting'\n",
    "substring = str[0:4]\n",
    "print(substring)"
   ]
  },
  {
   "cell_type": "markdown",
   "id": "e090af5e-c53b-4544-b5f7-138ff5ab8ad4",
   "metadata": {},
   "source": [
    "There's another syntax to slice a string:\n",
    "\n",
    "```text\n",
    "substring = string[start:end:step]\n",
    "```\n",
    "\n",
    "Step is how many characters you move forward each time you read. If your step is 1, you read one character at a time. If your step is 2, you skip one character and then read the next one.\n",
    "\n",
    "Let's say our string is 'abcde':\n",
    "\n",
    "```python\n",
    "s = 'abcde'\n",
    "print(s[0:4:2]) # Output: ac\n",
    "```\n",
    "\n",
    "Here, the step is set to 2, so it takes 2 jumps after reading each character.\n",
    "The character at the start index 0 is a. Then, it jumps by 2 characters and gets c.\n",
    "Once it reaches c, it stops because the end index is set to 4, so the traversal happens from index 0 to index 3."
   ]
  },
  {
   "cell_type": "markdown",
   "id": "8d6f97f5-1137-462a-a0e3-aa924dbcbfce",
   "metadata": {},
   "source": [
    "# Changing character using slicing\n",
    "\n",
    "You can also use slicing to change the value of a character.\n",
    "We can achieve this by slicing the string into parts before and after the character to be changed, then concatenate these parts with the new character in between.\n"
   ]
  },
  {
   "cell_type": "code",
   "execution_count": 22,
   "id": "9750a4da-1e83-48ae-8724-4f8ab5733bce",
   "metadata": {},
   "outputs": [
    {
     "name": "stdout",
     "output_type": "stream",
     "text": [
      "Chef\n"
     ]
    }
   ],
   "source": [
    "string = 'Chaf'\n",
    "new_string = string[:2] + 'e' + string[3:]\n",
    "print(new_string) # Output: Chef\n",
    "# This code modifies the string 'Chaf' to 'Chef'"
   ]
  },
  {
   "cell_type": "code",
   "execution_count": 24,
   "id": "94352551-8a5a-4e0e-96b3-55f0fe12a54c",
   "metadata": {},
   "outputs": [
    {
     "data": {
      "text/plain": [
       "'Ch'"
      ]
     },
     "execution_count": 24,
     "metadata": {},
     "output_type": "execute_result"
    }
   ],
   "source": [
    "string[:2] # Takes the first two letters from the original word i.e, 0 to 1. In this case, it extracts 'Ch'"
   ]
  },
  {
   "cell_type": "code",
   "execution_count": 25,
   "id": "b55b7da5-97bf-4479-8183-50f25ac4c4b7",
   "metadata": {},
   "outputs": [],
   "source": [
    "# 'e' -> This is the new character we want to replace the existing character at index 2 with."
   ]
  },
  {
   "cell_type": "code",
   "execution_count": 26,
   "id": "4127c2f4-6e7b-4a9b-b9a0-0366589fd4bf",
   "metadata": {},
   "outputs": [
    {
     "data": {
      "text/plain": [
       "'f'"
      ]
     },
     "execution_count": 26,
     "metadata": {},
     "output_type": "execute_result"
    }
   ],
   "source": [
    "string[3:] # Takes the first two letters from the original word i.e, 0 to 1. In this case, it extracts 'Ch'"
   ]
  },
  {
   "cell_type": "markdown",
   "id": "64569206-862b-4c9c-b014-71dd090bfe3b",
   "metadata": {},
   "source": [
    "By concatenating these three parts together (string[:2] + 'e' + string[3:]), we create a new string where the original character at index 2 is replaced with 'e'.\n",
    "So, new_string becomes 'Chef'."
   ]
  },
  {
   "cell_type": "code",
   "execution_count": 27,
   "id": "33fd6ec8-8e32-4cb6-a9e2-57afeeff21aa",
   "metadata": {},
   "outputs": [
    {
     "data": {
      "text/plain": [
       "'Chef'"
      ]
     },
     "execution_count": 27,
     "metadata": {},
     "output_type": "execute_result"
    }
   ],
   "source": [
    "string[:2] + 'e' + string[3:]"
   ]
  },
  {
   "cell_type": "markdown",
   "id": "8dad350e-5ddb-4379-a238-3e8ac40d7519",
   "metadata": {},
   "source": [
    "# Reverse slicing\n",
    "\n",
    "You can use ```text[start:end:step]``` format to print a string in reverse. Let's see how.\n",
    "\n",
    "We know when slicing, the traversal (movement) always happens from left to right. But there is a way to traverse from right to left by mentioning a negative step."
   ]
  },
  {
   "cell_type": "code",
   "execution_count": 28,
   "id": "81a2dda3-1c65-4cd4-8de9-5ccfc6a63fc9",
   "metadata": {},
   "outputs": [
    {
     "name": "stdout",
     "output_type": "stream",
     "text": [
      "edcb\n"
     ]
    }
   ],
   "source": [
    "s='abcde'\n",
    "print(s[4:0:-1]) # Output: edcb"
   ]
  },
  {
   "cell_type": "markdown",
   "id": "64b20a15-1d31-420d-b053-51847e95f2f5",
   "metadata": {},
   "source": [
    "When you mention a negative step the slicing starts from right to left.\n",
    "So, your start index will be 4 and the slicing stops at 1 because the end index is 0\n",
    "\n",
    "If you had to print the entire string in reverse then you write:"
   ]
  },
  {
   "cell_type": "code",
   "execution_count": 29,
   "id": "4eb647e6-1c84-4712-abdd-50ac98d83419",
   "metadata": {},
   "outputs": [
    {
     "name": "stdout",
     "output_type": "stream",
     "text": [
      "edcba\n"
     ]
    }
   ],
   "source": [
    "print(s[::-1]) # Output: edcba"
   ]
  },
  {
   "cell_type": "markdown",
   "id": "fd1cbb21-3242-4600-9430-1e4e1443a34b",
   "metadata": {},
   "source": [
    "- When you mention empty start index it will start from the very beginning,\n",
    "- And if the end index is empty it goes all the way till the end,\n",
    "- And since the step is negative the slicing starts from the right and goes all the way to the left"
   ]
  }
 ],
 "metadata": {
  "kernelspec": {
   "display_name": "Python 3 (ipykernel)",
   "language": "python",
   "name": "python3"
  },
  "language_info": {
   "codemirror_mode": {
    "name": "ipython",
    "version": 3
   },
   "file_extension": ".py",
   "mimetype": "text/x-python",
   "name": "python",
   "nbconvert_exporter": "python",
   "pygments_lexer": "ipython3",
   "version": "3.13.5"
  }
 },
 "nbformat": 4,
 "nbformat_minor": 5
}
