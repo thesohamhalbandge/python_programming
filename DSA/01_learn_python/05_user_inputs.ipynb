{
 "cells": [
  {
   "cell_type": "markdown",
   "id": "934755ae-3af0-406c-acbd-82043e63da03",
   "metadata": {},
   "source": [
    "# Taking user input\n",
    "\n",
    "Now we will use 'input()' to get user input\n",
    "\n",
    "The following commands will be used to get the name and age from user.\n",
    "The program then prints out the greeting using the variables name and age."
   ]
  },
  {
   "cell_type": "code",
   "execution_count": 1,
   "id": "780ed6c8-dc97-4725-b8b2-8ca572e05f39",
   "metadata": {},
   "outputs": [
    {
     "name": "stdin",
     "output_type": "stream",
     "text": [
      " Python\n"
     ]
    },
    {
     "name": "stdout",
     "output_type": "stream",
     "text": [
      "Hello, Python!\n"
     ]
    },
    {
     "name": "stdin",
     "output_type": "stream",
     "text": [
      " 19\n"
     ]
    },
    {
     "name": "stdout",
     "output_type": "stream",
     "text": [
      "You are 19 years old.\n"
     ]
    }
   ],
   "source": [
    "name = input()\n",
    "print(\"Hello, \" + name + \"!\")\n",
    "\n",
    "age = input()\n",
    "print(\"You are \" + age + \" years old.\")"
   ]
  },
  {
   "cell_type": "markdown",
   "id": "de28e970-f6bf-4e9c-89ed-f24fac4c21d5",
   "metadata": {},
   "source": [
    "`input()` assumes that the input is a `string`.\n",
    "You can convert it to an integer or numerical value using `int()`"
   ]
  },
  {
   "cell_type": "code",
   "execution_count": 2,
   "id": "a4d9ade7-5245-4963-aff2-2959363f45aa",
   "metadata": {},
   "outputs": [
    {
     "name": "stdin",
     "output_type": "stream",
     "text": [
      " 23\n"
     ]
    },
    {
     "name": "stdout",
     "output_type": "stream",
     "text": [
      "You are 23 years old.\n"
     ]
    }
   ],
   "source": [
    "age = int(input())\n",
    "print(\"You are\", age, \"years old.\")"
   ]
  },
  {
   "cell_type": "markdown",
   "id": "38a66787-4c9b-4014-ab0f-dcda724975ae",
   "metadata": {},
   "source": [
    "# Converting input datatype\n",
    "\n",
    "The input() function assumes that the input is a string. This means whatever the user types, whether it is letters, numbers, or special characters, input() directly reads it as a string.\n",
    "\n",
    "So, if you need to work with numbers, you have to convert the input to an integer or a float. We learned how to convert types in one of our previous lessons. We use the same method to convert the input to an integer:\n"
   ]
  },
  {
   "cell_type": "code",
   "execution_count": 3,
   "id": "cedce70d-c765-4c0c-a7d1-a8d2eb98ab2e",
   "metadata": {},
   "outputs": [
    {
     "name": "stdin",
     "output_type": "stream",
     "text": [
      " 15\n",
      " 20\n"
     ]
    },
    {
     "name": "stdout",
     "output_type": "stream",
     "text": [
      "35\n"
     ]
    }
   ],
   "source": [
    "num1 = int(input())\n",
    "num2 = int(input())\n",
    "print(num1 + num2)"
   ]
  },
  {
   "cell_type": "markdown",
   "id": "bea20c83-8984-48e6-823e-76a74103c5da",
   "metadata": {},
   "source": [
    "If the user enters 2 as the value of num1 and 3 as the value of num2, the output will be 5. \n",
    "However, if we don't convert it to an integer, the output will be 23 because `input()` takes the input as a string, and it will perform string concatenation instead of integer addition.\n",
    "\n",
    "Just like how we used the `int()` function to convert input to an integer value, we can read values of any datatype. For example, if you want to read float values, you can use the `float()` function."
   ]
  },
  {
   "cell_type": "markdown",
   "id": "98a4ea2d-475f-43f9-990c-f4219dc8b9ed",
   "metadata": {},
   "source": [
    "# Multiple string inputs\n",
    "\n",
    "You've seen how to use the input() function to take input multiple times, accepting one value per line. However, sometimes you need to accept multiple inputs in a single line. To do this, you can use the split() function.\n",
    "\n",
    "For example, if the user inputs the following:\n",
    "\n",
    "```text\n",
    "Goood Great Awesome\n",
    "```\n",
    "\n",
    "You can read these inputs like this:"
   ]
  },
  {
   "cell_type": "code",
   "execution_count": 5,
   "id": "11db7dd1-5b3f-4bab-980f-f88670ca672a",
   "metadata": {},
   "outputs": [
    {
     "name": "stdin",
     "output_type": "stream",
     "text": [
      " Good Great Awesome\n"
     ]
    },
    {
     "name": "stdout",
     "output_type": "stream",
     "text": [
      "Good\n",
      "Great\n",
      "Awesome\n"
     ]
    }
   ],
   "source": [
    "a, b, c = input().split()\n",
    "print(a)\n",
    "print(b)\n",
    "print(c)"
   ]
  },
  {
   "cell_type": "markdown",
   "id": "bf98cca1-a26e-47bc-9c65-98192ffe237b",
   "metadata": {},
   "source": [
    "The `split()` function breaks this single line of input into multiple parts. By default, `split()` divides the input based on spaces, so each word separated by a space is treated as an independent input and stored in different variables."
   ]
  },
  {
   "cell_type": "markdown",
   "id": "7e163b4e-f742-43e8-8f5a-763b1bfdda81",
   "metadata": {},
   "source": [
    "# Multiple integer inputs\n",
    "\n",
    "The syntax you saw in the previous lesson takes string inputs. But if you need to take multiple integer inputs, you'll have to convert them separately.\n",
    "\n",
    "You cannot call the int function directly on the split input as int function can only be called on one value as a time and split input has multiple values.\n",
    "\n",
    "To handle this, you can use the map function to convert the split inputs to integers in one step. Here's how you can do it:\n"
   ]
  },
  {
   "cell_type": "code",
   "execution_count": 7,
   "id": "9e5c1e36-72f2-4ff8-babb-eda3b22be89b",
   "metadata": {},
   "outputs": [
    {
     "name": "stdin",
     "output_type": "stream",
     "text": [
      " 10 20 30\n"
     ]
    },
    {
     "name": "stdout",
     "output_type": "stream",
     "text": [
      "10 20 30\n"
     ]
    }
   ],
   "source": [
    "a, b, c = map(int, input().split())   # assigns integer input values to variables a, b and c\n",
    "print(a, b, c)"
   ]
  },
  {
   "cell_type": "markdown",
   "id": "563a5f58-3f79-4d0a-96e4-ab26c6e3a718",
   "metadata": {},
   "source": [
    "What map does is, it takes the list of multiple inputs and applies the integer function to each input in the list."
   ]
  }
 ],
 "metadata": {
  "kernelspec": {
   "display_name": "Python 3 (ipykernel)",
   "language": "python",
   "name": "python3"
  },
  "language_info": {
   "codemirror_mode": {
    "name": "ipython",
    "version": 3
   },
   "file_extension": ".py",
   "mimetype": "text/x-python",
   "name": "python",
   "nbconvert_exporter": "python",
   "pygments_lexer": "ipython3",
   "version": "3.13.5"
  }
 },
 "nbformat": 4,
 "nbformat_minor": 5
}
