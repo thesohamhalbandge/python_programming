{
 "cells": [
  {
   "attachments": {},
   "cell_type": "markdown",
   "id": "587b0d6a-9eb2-4705-9e0c-d7ddfd2dbf52",
   "metadata": {},
   "source": [
    "# Need of If-Else\n",
    "\n",
    "Many times our program needs to take different actions based on some conditions.\n",
    "\n",
    "For example, Let's suppose we have to write a program that takes the user's age and tells us if the user is old enough to vote or not. In this case our program will behave differently if the age entered by the user is below 18 and if the age is above 18.\n",
    "\n",
    "If it is above 18, our program will print \"Old enough to vote!\". Otherwise, it will print \"Not old enough to vote!\"."
   ]
  },
  {
   "attachments": {
    "6c71dd40-6ec6-4d67-8963-32fbe87ad957.png": {
     "image/png": "[encoded data removed]"
    }
   },
   "cell_type": "markdown",
   "id": "f753c730-bfc9-422c-9043-dccb214a0756",
   "metadata": {},
   "source": [
    "![vote-age-flowchart.png](attachment:6c71dd40-6ec6-4d67-8963-32fbe87ad957.png)"
   ]
  },
  {
   "cell_type": "markdown",
   "id": "eee97dd4-6871-488b-915a-55e0f4bed488",
   "metadata": {},
   "source": [
    "This different behavior in the program can be achieved through something called \"If/Else\" Statements in Python."
   ]
  },
  {
   "cell_type": "markdown",
   "id": "9e47f812-0d96-4380-92f5-0b7ee9c24923",
   "metadata": {},
   "source": [
    "# If & Else Statements\n",
    "\n",
    "We use conditions in code for decision making and controlling the flow of a program.\n",
    "\n",
    "IF and ELSE can be used together to create conditions. The syntax for this is:\n",
    "\n",
    "```text\n",
    "if condition:\n",
    "    # code to run if the condition is true\n",
    "else:\n",
    "    # code to run if the above condition is false\n",
    "```"
   ]
  },
  {
   "cell_type": "markdown",
   "id": "1c2d5a2b-0e42-461d-a6be-4793738d8ff1",
   "metadata": {},
   "source": [
    "Condition can be any expression which you are trying to evaluate. A simple condition can be:"
   ]
  },
  {
   "cell_type": "code",
   "execution_count": 2,
   "id": "a599b58d-2257-4d96-8472-b0c53cb73582",
   "metadata": {},
   "outputs": [
    {
     "name": "stdout",
     "output_type": "stream",
     "text": [
      "a and b are not equal\n"
     ]
    }
   ],
   "source": [
    "a = 4\n",
    "b = 5\n",
    "if a == b:\n",
    "    print(\"a and b are equal\")\n",
    "else:\n",
    "    print(\"a and b are not equal\")\n",
    "\n",
    "# Output:\n",
    "# a and b are not equal\n",
    "#`a == b` is used to check whether the values of variables `a` and `b` are equal. `==` is called a equal to operator."
   ]
  },
  {
   "cell_type": "markdown",
   "id": "c9c1553b-b378-44e3-9076-35ee8111aa99",
   "metadata": {},
   "source": [
    "# Common Python Conditional Operators\n",
    "\n",
    "| Operator | Description                  | Example   |\n",
    "|----------|------------------------------|-----------|\n",
    "| `==`     | Equal to                     | `a == b`  |\n",
    "| `!=`     | Not equal to                 | `a != b`  |\n",
    "| `>`      | Greater than                 | `a > b`   |\n",
    "| `<`      | Less than                    | `a < b`   |\n",
    "| `>=`     | Greater than or equal to     | `a >= b`  |\n",
    "| `<=`     | Less than or equal to        | `a <= b`  |"
   ]
  },
  {
   "cell_type": "markdown",
   "id": "782703a9-32e4-45ab-acb9-e7204caaeb8c",
   "metadata": {},
   "source": [
    "# Indentation\n",
    "\n",
    "Let us take a look at the code from last problem.\n",
    "\n",
    "```python\n",
    "age = int(input())\n",
    "\n",
    "if age >= 18:\n",
    "    print(\"Old enough to vote\")\n",
    "else:\n",
    "    print(\"Not old enough to vote\")\n",
    "```\n",
    "\n",
    "Two things to note here:\n",
    "\n",
    "1. There is some space before the print statements.\n",
    "2. There is a colon (:) after if and else statements.\n",
    "\n",
    "The space before print is called indentation. Indentation is used to define scope in Python. Because of the space before print, Python knows that it has to execute the print statement if the condition becomes True.\n",
    "\n",
    "The colon after IF and ELSE is also part of the syntax, you will get an error if you forget it."
   ]
  },
  {
   "cell_type": "markdown",
   "id": "2b70a7b1-a6a7-4260-9fea-d5d7e46549bd",
   "metadata": {},
   "source": [
    "# If statement\n",
    "\n",
    "The `else` statement is optional.\n",
    "\n",
    "Here is an example\n",
    "\n",
    "```python\n",
    "grade = 95\n",
    "if grade >= 90:\n",
    "    print(\"You got an A\")\n",
    "\n",
    "# Output:\n",
    "# You got an A\n",
    "```\n",
    "\n",
    "In this example, the if condition checks whether the grade is greater than or equal to 90. If the condition is True, the print statement inside the if block is executed, and it prints \"You got an A\".\n",
    "\n",
    "If the condition is False, the program skips the if block and moves on to the next part of the code (if any). Since there is no else block in this example, nothing happens if the condition is False.\n",
    "\n",
    "The else block is useful when you want to specify an action if the if condition is not met, but it's not necessary if you only need to perform an action when the condition is True.\n"
   ]
  },
  {
   "cell_type": "markdown",
   "id": "9ef873fd-7693-4b73-b6a8-08de9d24b6a2",
   "metadata": {},
   "source": [
    "# Elif Statement\n",
    "\n",
    "In the previous problems, you saw how your code can have two different flows using one if and one else condition.\n",
    "Now what if you want to evaluate more than two conditions? In such case, one if and one else condition is not sufficient. That is where elif statements come in handy. Let's understand them in detail."
   ]
  },
  {
   "cell_type": "markdown",
   "id": "fb1d3f60-ebc6-4258-855a-540488fe9994",
   "metadata": {},
   "source": [
    "In short, in cases where you have to check for multiple conditions and run some code based on each, you have to use elif.\n",
    "\n",
    "The elif keyword means \"if the previous conditions were not true, then try this condition\".\n",
    "\n",
    "The following example illustrates usage of elif."
   ]
  },
  {
   "cell_type": "code",
   "execution_count": 3,
   "id": "8e45b40e-17d8-46f3-935c-5a1b5859e42c",
   "metadata": {},
   "outputs": [
    {
     "name": "stdout",
     "output_type": "stream",
     "text": [
      "You got a B\n"
     ]
    }
   ],
   "source": [
    "grade = 85\n",
    "\n",
    "if grade >= 90:\n",
    "    print(\"You got an A\")\n",
    "elif grade >= 80:\n",
    "    print(\"You got a B\")\n",
    "\n",
    "# Output:\n",
    "# You got a B"
   ]
  },
  {
   "cell_type": "markdown",
   "id": "52985921-275c-4002-9756-63a865620a37",
   "metadata": {},
   "source": [
    "The code above works as follows\n",
    "\n",
    "- If grade >= 90, then it will output: You got an A\n",
    "- If grade is between 80 and 90 - it will output: You got a B\n",
    "- If grade is less than 80 - there will be no output"
   ]
  },
  {
   "cell_type": "markdown",
   "id": "90ee1a67-83cb-42f9-9567-4ef173e976b5",
   "metadata": {},
   "source": [
    "# Else Statement\n",
    "\n",
    "The else keyword handles the case that don't meet the conditions specified in the if and elif statements. It's like a \"none of the above\" option in programming."
   ]
  },
  {
   "cell_type": "markdown",
   "id": "f1fe5802-065c-4cec-8266-72a345ea33da",
   "metadata": {},
   "source": [
    "Some code is written in the editor.\n",
    "\n",
    "- Create integer variables r and k - the weight of friends Ram and Karan\n",
    "- Take user input for r and then k\n",
    "- Output based on these conditions:\n",
    "    1. If r is greater than k, output \"Ram is heavier than Karan\"\n",
    "    2. If r is less than k, output \"Karan is heavier than Ram\"\n",
    "    3. Otherwise, output \"Ram & Karan have the same weight\""
   ]
  },
  {
   "cell_type": "code",
   "execution_count": 5,
   "id": "9bad92e3-9897-432c-b2ac-c341328c7581",
   "metadata": {},
   "outputs": [
    {
     "name": "stdin",
     "output_type": "stream",
     "text": [
      " 24 32\n"
     ]
    },
    {
     "name": "stdout",
     "output_type": "stream",
     "text": [
      "Karan is heavier than Ram\n"
     ]
    }
   ],
   "source": [
    "r, k = map(int, input().split())\n",
    "\n",
    "if r > k:\n",
    "    print(\"Ram is heavier than Karan\")\n",
    "elif r < k:\n",
    "    print(\"Karan is heavier than Ram\")\n",
    "else:\n",
    "    print(\"Ram & Karan have the same weight\")"
   ]
  },
  {
   "cell_type": "markdown",
   "id": "b90cde97-51ee-4c9f-90b4-b0329188fcbc",
   "metadata": {},
   "source": [
    "# And Statement\n",
    "\n",
    "Till now we used only one condition in our if or elif statements.\n",
    "But what if we want to use multiple conditions?\n",
    "Say we want to check if a person is female and older than 18 years of age, how can we do that in Python?\n",
    "\n",
    "In Python, the AND operator is a logical operator that allows you to combine multiple conditions.\n",
    "It returns TRUE if all the conditions are true, and FALSE if at least one condition is false.\n",
    "\n",
    "Let's start with a simple example.\n",
    "Imagine you have two variables: x and y.\n",
    "You want to check if both x is greater than 5 and y is less than 10.\n",
    "Here's how you would use the and operator to combine these conditions:"
   ]
  },
  {
   "cell_type": "code",
   "execution_count": 6,
   "id": "5776ec2d-49c5-4c6d-bc64-c2962514eeec",
   "metadata": {},
   "outputs": [
    {
     "name": "stdout",
     "output_type": "stream",
     "text": [
      "Both conditions are true!\n"
     ]
    }
   ],
   "source": [
    "x = 8\n",
    "y = 7\n",
    "\n",
    "if x > 5 and y < 10:\n",
    "    print(\"Both conditions are true!\")\n",
    "else:\n",
    "    print(\"At least one condition is false.\")\n",
    "\n",
    "# For the given values of x and y, the above program will return \"Both conditions are true!\"."
   ]
  },
  {
   "cell_type": "markdown",
   "id": "e847ddce-96a9-444e-91da-15774b0e995a",
   "metadata": {},
   "source": [
    "# Or Statement\n",
    "\n",
    "The OR operator is another logical operator in Python that allows you to combine multiple conditions.\n",
    "It returns TRUE if at least one of the conditions is true, and False if all the conditions are false.\n",
    "\n",
    "Suppose you have a variable age that represents a person's age, and you want to check if the age is either less than 18 or greater than 65."
   ]
  },
  {
   "cell_type": "code",
   "execution_count": 7,
   "id": "0962637f-dcbb-4031-8ba0-f021d51fbdd5",
   "metadata": {},
   "outputs": [
    {
     "name": "stdout",
     "output_type": "stream",
     "text": [
      "This person is between 18 and 65.\n"
     ]
    }
   ],
   "source": [
    "age = 22\n",
    "\n",
    "if age < 18 or age > 65:\n",
    "    print(\"This person is either under 18 or over 65.\")\n",
    "else:\n",
    "    print(\"This person is between 18 and 65.\")\n",
    "\n",
    "# Output\n",
    "# This person is between 18 and 65."
   ]
  }
 ],
 "metadata": {
  "kernelspec": {
   "display_name": "Python 3 (ipykernel)",
   "language": "python",
   "name": "python3"
  },
  "language_info": {
   "codemirror_mode": {
    "name": "ipython",
    "version": 3
   },
   "file_extension": ".py",
   "mimetype": "text/x-python",
   "name": "python",
   "nbconvert_exporter": "python",
   "pygments_lexer": "ipython3",
   "version": "3.13.5"
  }
 },
 "nbformat": 4,
 "nbformat_minor": 5
}
