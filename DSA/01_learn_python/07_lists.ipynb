{
 "cells": [
  {
   "cell_type": "markdown",
   "id": "767278af-90c0-4945-b051-cb30911bc2f5",
   "metadata": {},
   "source": [
    "# Creating Lists\n",
    "\n",
    "`Arrays` in Python are commonly referred to as `lists`.\n",
    "`Arrays` are used to store multiple values in a single variable, instead of declaring separate variables for each value.\n",
    "\n",
    "In Python, `list` is denoted by square brackets []\n",
    "\n",
    "- It can hold elements of different data types, such as numbers, strings, or even other lists.\n",
    "- `Lists` are mutable, which means you can modify them by adding, removing, or changing elements.\n"
   ]
  },
  {
   "cell_type": "code",
   "execution_count": 1,
   "id": "1acce663-2623-48b3-bb50-5b7c7873455e",
   "metadata": {},
   "outputs": [],
   "source": [
    "# Consider the list  'fruits'  and  'numbers'  below\n",
    "fruits = [\"apple\", \"banana\", \"orange\", \"grape\"]\n",
    "\n",
    "numbers = [20, 10, 0, -5]"
   ]
  },
  {
   "cell_type": "markdown",
   "id": "47452f32-d93a-4d70-b426-ac4676540f57",
   "metadata": {},
   "source": [
    "# Index & printing specific elements of a List\n",
    "\n",
    "You access an array element by referring to the `index number` inside square brackets [].\n",
    "Similar to what we saw in strings, list items are indexed and you can access them by referring to their `index number`:\n",
    "\n",
    "```text\n",
    "            0      1      2      - index numbers\n",
    "         [\"red\",\"Green\",\"Blue\"]  - the list\n",
    "# Note - Indexing always start from 0 when going left to right.\n",
    "```\n",
    "\n",
    "To access a particular element of an array, we use the same syntax we used to access a character of a string\n",
    "\n",
    "```python\n",
    "arr = [\"red\",\"Green\",\"Blue\"]\n",
    "# to access the third element of the array:\n",
    "print(arr[2]) # Output: Blue\n",
    "```"
   ]
  },
  {
   "cell_type": "markdown",
   "id": "42fe124a-fee7-4bf8-8ecf-e8ebfc83a341",
   "metadata": {},
   "source": [
    "# Changing the elements of a List\n",
    "\n",
    "You can also modify elements in a list by assigning a new value to a specific index."
   ]
  },
  {
   "cell_type": "code",
   "execution_count": 2,
   "id": "834e1885-691c-4cc1-9d09-0e353e5ca2ad",
   "metadata": {},
   "outputs": [
    {
     "name": "stdout",
     "output_type": "stream",
     "text": [
      "['apple', 'kiwi', 'orange', 'grape']\n"
     ]
    }
   ],
   "source": [
    "fruits = [\"apple\", \"banana\", \"orange\", \"grape\"]\n",
    "fruits[1] = \"kiwi\"\n",
    "print(fruits)  # Output: [\"apple\", \"kiwi\", \"orange\", \"grape\"]"
   ]
  },
  {
   "cell_type": "markdown",
   "id": "39ee1874-49a6-4bec-b626-bbf6491fa7ff",
   "metadata": {},
   "source": [
    "# Displaying the count of elements\n",
    "\n",
    "To get the length of a list or the number of elements present in a list, you can use the `len()` operator:\n",
    "For e.g."
   ]
  },
  {
   "cell_type": "code",
   "execution_count": 3,
   "id": "b6e5992e-aed5-41da-afe4-ab031246876e",
   "metadata": {},
   "outputs": [
    {
     "name": "stdout",
     "output_type": "stream",
     "text": [
      "5\n"
     ]
    }
   ],
   "source": [
    "myNumbers = [10, 20, 30, 40, 50]\n",
    "print(len(myNumbers))      # will output 5"
   ]
  },
  {
   "cell_type": "markdown",
   "id": "aae92bd5-98e6-43b7-9ae6-9299e70c875e",
   "metadata": {},
   "source": [
    "# Negative Indexing\n",
    "\n",
    "List items can also be negatively indexed:\n",
    "\n",
    "```text\n",
    "            -3      -2     -1      - index numbers\n",
    "         [\"red\",\"Green\",\"Blue\"]  - the list\n",
    "```\n",
    "\n",
    "Note - Indexing always starts from `-1` when going right to left."
   ]
  },
  {
   "cell_type": "markdown",
   "id": "c8295d85-736f-4960-8a8e-9062b85d1214",
   "metadata": {},
   "source": [
    "# Slicing a list\n",
    "\n",
    "Similar to what we saw in slicing of strings, you can slice lists as well.\n",
    "You can specify a range of consecutive indexes by specifying where to start and where to end the range in this manner - `print(list[1:4])`.\n",
    "This will print elements from index number 1 to 3.\n",
    "\n",
    "Note:\n",
    "\n",
    "- Indexing starts from 0.\n",
    "- Item on index no 4 will not be printed as the end index is excluded.\n",
    "\n",
    "For eg -\n",
    "\n",
    "```python\n",
    "a = [\"Juke\", \"King\", \"Hearts\", \"68\", \"Kite\"]\n",
    "print(a[1:4])\n",
    "```\n",
    "\n",
    "The output will be\n",
    "\n",
    "```text\n",
    "[\"King\", \"Hearts\", \"68\"]\n",
    "```"
   ]
  },
  {
   "cell_type": "markdown",
   "id": "bb6b632e-a9ed-4d99-b216-a219e7b81abc",
   "metadata": {},
   "source": [
    "# Operations on Lists\n",
    "\n",
    "So far, we've learned how to access list items using indexing and slicing.\n",
    "As you move ahead on lists, you will want to do more than fetch items from the lists.\n",
    "Python allows you even to update and modify lists.\n",
    "\n",
    "There are four major functions that you can use to update any given list and its items.\n",
    "\n",
    "1. `append()`\n",
    "This function helps you to add a new item at the end of the list.\n",
    "\n",
    "2. `insert()`\n",
    "This function helps you to add a new item at a specific position in the list. You can exactly specify which position you want to add the new item.\n",
    "\n",
    "3. `remove()`\n",
    "This is used to remove the first matching element from a list. You can exactly specify which item you want to remove from the list.\n",
    "\n",
    "4. `pop()`\n",
    "This is used to remove the element at the specified position."
   ]
  },
  {
   "cell_type": "markdown",
   "id": "d9c8f783-e817-488c-9c2c-4066aa1485e4",
   "metadata": {},
   "source": [
    "## List append \n",
    "\n",
    "Great, now let's do some hands-on coding using the append() function.\n",
    "\n",
    "To add an item to the end of a list, we use the append() function."
   ]
  },
  {
   "cell_type": "code",
   "execution_count": 6,
   "id": "e1b87d0a-49dc-4c89-af63-52d6fa8804da",
   "metadata": {},
   "outputs": [
    {
     "name": "stdout",
     "output_type": "stream",
     "text": [
      "['apple', 'banana', 'cherry', 'orange']\n"
     ]
    }
   ],
   "source": [
    "fruits = [\"apple\", \"banana\", \"cherry\"]\n",
    "fruits.append(\"orange\")\n",
    "print(fruits) # Output: [\"apple\", \"banana\", \"cherry\", \"orange\"]\n",
    "\n",
    "# In the append() function, you provide the item you want to add, \n",
    "# and it will be added to the end of the list."
   ]
  },
  {
   "cell_type": "markdown",
   "id": "5e1364ad-14a3-40cf-be6b-b0ea5648699e",
   "metadata": {},
   "source": [
    "## List insert\n",
    "\n",
    "Another function that helps us add elements to a list is the INSERT() function.\n",
    "\n",
    "While the APPEND() function adds elements to the end of the list, the INSERT() function allows us to specify the index where we want to insert the new element."
   ]
  },
  {
   "cell_type": "code",
   "execution_count": 7,
   "id": "262f4d74-425b-4c72-8604-c603871853f0",
   "metadata": {},
   "outputs": [
    {
     "name": "stdout",
     "output_type": "stream",
     "text": [
      "['apple', 'orange', 'banana', 'cherry']\n"
     ]
    }
   ],
   "source": [
    "fruits = [\"apple\", \"banana\", \"cherry\"]\n",
    "fruits.insert(1, \"orange\")\n",
    "print(fruits) # Output: [\"apple\", \"orange\", \"banana\", \"cherry\"]"
   ]
  },
  {
   "cell_type": "markdown",
   "id": "be69b956-5ade-477e-b2b4-a27affbafe62",
   "metadata": {},
   "source": [
    "With the INSERT() function, we specify the position where we want to add the new item (using an index) and the item we want to add.\n",
    "\n",
    "When we insert a new item into the list, it is placed at the specified position, and the rest of the items are shifted to the right to make room for it.\n",
    "In the example above, \"ORANGE\" is added at index 1, so \"BANANA\" and \"CHERRY\" are shifted to the right."
   ]
  },
  {
   "cell_type": "markdown",
   "id": "54db79cf-5ca5-4c08-a160-4e83852896b8",
   "metadata": {},
   "source": [
    "## List remove\n",
    "\n",
    "We learned how to add items to a list, and now we'll see how to remove items.\n",
    "To remove an item, we use the remove() function.\n",
    "This function removes the first occurrence of the specified item from the list.\n",
    "\n",
    "```python\n",
    "fruits = [\"apple\", \"banana\", \"cherry\", \"banana\"]\n",
    "fruits.remove(\"banana\")\n",
    "print(fruits) # Output: [\"apple\", \"cherry\", \"banana\"]\n",
    "```\n",
    "\n",
    "Here's how it works:\n",
    "\n",
    "- You call the remove() function and pass the item you want to remove.\n",
    "- The function searches for the first occurrence of that item in the list.\n",
    "- Once it finds the item, it removes it from the list.\n",
    "- In the example above, the first occurrence of BANANA is removed, leaving the list as `[\"apple\", \"cherry\", \"banana\"].`\n",
    "\n",
    "Note:\n",
    "\n",
    "- If the item you want to remove is not in the list, the remove() function will give you an error.\n",
    "- The remove() function only removes the first occurrence of the item, so if the item appears multiple times, only the first one will be removed."
   ]
  },
  {
   "cell_type": "markdown",
   "id": "b3730e19-516d-4ccc-9af2-668ae32acf8f",
   "metadata": {},
   "source": [
    "## List pop\n",
    "\n",
    "There's another function to help you remove items from a list.\n",
    "The POP() function lets you take an item out of the list, but you can choose whether to remove the last item or an item from a specific position.\n",
    "\n",
    "1. If you don't tell `pop()` which item to remove, it will take out the last item in the list.\n",
    "\n",
    "```python\n",
    "fruits = [\"apple\", \"banana\", \"cherry\"]\n",
    "fruits.pop()\n",
    "print(fruits) # Output: [\"apple\", \"banana\"]\n",
    "```\n",
    "\n",
    "2. You can also tell POP() which item to remove by giving it the position (index) of the item. For example, let's say you want to remove the item at index 1 (which is \"banana\"):\n",
    "\n",
    "```python\n",
    "fruits = [\"apple\", \"banana\", \"cherry\"]\n",
    "fruits.pop(1)\n",
    "removed_fruit = fruits.pop(1)\n",
    "print(removed_fruit) # Output: cherry\n",
    "print(fruits) # Output: [\"apple\"]\n",
    "```\n",
    "\n",
    "- You call the POP() function and pass the index of the item you want to remove.\n",
    "- The function removes the item at that position and returns it to you.\n",
    "\n",
    "Note:\n",
    "\n",
    "- If you use POP() without any arguments, it removes and returns the last item in the list.\n",
    "- If you use POP() with an index, it removes and returns the item at that index.\n",
    "- If the index you provide is out of range (like trying to remove an item from an empty list or an index that doesn't exist), you will get an error."
   ]
  },
  {
   "cell_type": "markdown",
   "id": "6e858339-5272-4437-a6d6-be4186f228f0",
   "metadata": {},
   "source": [
    "## List concatenation\n",
    "\n",
    "We have learned about various operations we can perform on lists.\n",
    "Another simple operation you can do with lists is list concatenation.\n",
    "\n",
    "When you use the addition operator on two lists, it combines them into one longer list, placing all the items from both lists together."
   ]
  },
  {
   "cell_type": "code",
   "execution_count": 8,
   "id": "2914297a-47cb-40ba-baec-99e89fc5ab39",
   "metadata": {},
   "outputs": [
    {
     "name": "stdout",
     "output_type": "stream",
     "text": [
      "['apple', 'banana', 'cherry', 'date']\n"
     ]
    }
   ],
   "source": [
    "fruits1 = [\"apple\", \"banana\"]\n",
    "fruits2 = [\"cherry\", \"date\"]\n",
    "all_fruits = fruits1 + fruits2\n",
    "print(all_fruits) # Output: [\"apple\", \"banana\", \"cherry\", \"date\"]"
   ]
  },
  {
   "cell_type": "markdown",
   "id": "36acab33-9149-4139-b5fc-867a2e649690",
   "metadata": {},
   "source": [
    "When we concatenate (combine) two lists using the + operator, it creates a new list that includes all the items from the first list followed by all the items from the second list."
   ]
  },
  {
   "cell_type": "markdown",
   "id": "8a08de3f-b478-46cc-8a4f-b11c071eae74",
   "metadata": {},
   "source": [
    "## List String User Input\n",
    "\n",
    "Imagine you want to create a list based on the items a user enters.\n",
    "Instead of hardcoding the list items, you can ask the user to provide them.\n",
    "\n",
    "You can take a list of items from the user by using the INPUT() function and then splitting the input into individual items.\n",
    "\n",
    "- Use the INPUT() function to read the user input items separated by spaces.\n",
    "- Use the SPLIT() function to break the input string into individual items and store them in a list.\n",
    "\n",
    "```python\n",
    "fruits = input().split()\n",
    "print(fruits)\n",
    "```\n",
    "\n",
    "If the user enters:\n",
    "\n",
    "```text\n",
    "apple banana cherry date\n",
    "```\n",
    "\n",
    "The SPLIT() function will break this input string into individual items based on the spaces and create a list like this:\n",
    "\n",
    "```python\n",
    "print(fruits) # Output: [\"apple\", \"banana\", \"cherry\", \"date\"]\n",
    "```\n",
    "\n",
    "- `User Input`: The INPUT() function reads a line of text input from the user.\n",
    "- `Splitting the Input`: The SPLIT() function, splits the input string at each space and returns a list of words."
   ]
  },
  {
   "cell_type": "markdown",
   "id": "432de5e0-69a6-46d8-ab88-e8152ff3d27f",
   "metadata": {},
   "source": [
    "## List Integer User Input\n",
    "\n",
    "If you want to take a list of numbers as input, you need to convert each input from a string to an integer.\n",
    "\n",
    "Here’s how you can achieve that:\n",
    "\n",
    "- `Read User Input`: When you need to input a series of numbers, each number is initially read as a string.\n",
    "- To use these numbers in numerical operations, you must convert them from strings to integers.\n",
    "- `Convert to Integers`: Use the MAP() function to apply the INT() function to each item, converting them from strings to integers.\n",
    "- `Create a List`: LIST() function collects these elements into a list.\n",
    "- This list of integer values is stored inside a variable\n",
    "\n",
    "```python\n",
    "numbers = list(map(int, input().split()))\n",
    "```\n",
    "\n",
    "If the user enters:\n",
    "\n",
    "```text\n",
    "1 2 3 4 5\n",
    "```\n",
    "\n",
    "The MAP() function will convert each item from a string to an integer, and LIST() will create a list of these numbers:\n",
    "\n",
    "```python\n",
    "print(numbers) # Output: [1, 2, 3, 4, 5]\n",
    "```"
   ]
  }
 ],
 "metadata": {
  "kernelspec": {
   "display_name": "Python 3 (ipykernel)",
   "language": "python",
   "name": "python3"
  },
  "language_info": {
   "codemirror_mode": {
    "name": "ipython",
    "version": 3
   },
   "file_extension": ".py",
   "mimetype": "text/x-python",
   "name": "python",
   "nbconvert_exporter": "python",
   "pygments_lexer": "ipython3",
   "version": "3.13.5"
  }
 },
 "nbformat": 4,
 "nbformat_minor": 5
}
